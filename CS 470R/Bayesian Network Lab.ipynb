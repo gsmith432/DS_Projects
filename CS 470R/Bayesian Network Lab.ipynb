{
 "cells": [
  {
   "cell_type": "code",
   "execution_count": 17,
   "metadata": {},
   "outputs": [],
   "source": [
    "import numpy as np\n",
    "import pandas as pd\n",
    "from itertools import permutations, combinations_with_replacement"
   ]
  },
  {
   "cell_type": "markdown",
   "metadata": {},
   "source": [
    "# Problem 2"
   ]
  },
  {
   "cell_type": "code",
   "execution_count": 119,
   "metadata": {},
   "outputs": [
    {
     "data": {
      "text/html": [
       "<div>\n",
       "<style scoped>\n",
       "    .dataframe tbody tr th:only-of-type {\n",
       "        vertical-align: middle;\n",
       "    }\n",
       "\n",
       "    .dataframe tbody tr th {\n",
       "        vertical-align: top;\n",
       "    }\n",
       "\n",
       "    .dataframe thead th {\n",
       "        text-align: right;\n",
       "    }\n",
       "</style>\n",
       "<table border=\"1\" class=\"dataframe\">\n",
       "  <thead>\n",
       "    <tr style=\"text-align: right;\">\n",
       "      <th></th>\n",
       "      <th>M</th>\n",
       "      <th>Prob</th>\n",
       "    </tr>\n",
       "  </thead>\n",
       "  <tbody>\n",
       "    <tr>\n",
       "      <th>0</th>\n",
       "      <td>1</td>\n",
       "      <td>0.7</td>\n",
       "    </tr>\n",
       "    <tr>\n",
       "      <th>1</th>\n",
       "      <td>0</td>\n",
       "      <td>0.3</td>\n",
       "    </tr>\n",
       "  </tbody>\n",
       "</table>\n",
       "</div>"
      ],
      "text/plain": [
       "   M  Prob\n",
       "0  1   0.7\n",
       "1  0   0.3"
      ]
     },
     "execution_count": 119,
     "metadata": {},
     "output_type": "execute_result"
    }
   ],
   "source": [
    "m = pd.DataFrame(columns=['M','Prob'])\n",
    "m.loc[:,'M'] = [1,0]\n",
    "m.loc[:,'Prob'] = [0.7,0.3]\n",
    "m.head()"
   ]
  },
  {
   "cell_type": "markdown",
   "metadata": {},
   "source": [
    "## Probability Table For P(D|M)"
   ]
  },
  {
   "cell_type": "code",
   "execution_count": 131,
   "metadata": {},
   "outputs": [
    {
     "data": {
      "text/html": [
       "<div>\n",
       "<style scoped>\n",
       "    .dataframe tbody tr th:only-of-type {\n",
       "        vertical-align: middle;\n",
       "    }\n",
       "\n",
       "    .dataframe tbody tr th {\n",
       "        vertical-align: top;\n",
       "    }\n",
       "\n",
       "    .dataframe thead th {\n",
       "        text-align: right;\n",
       "    }\n",
       "</style>\n",
       "<table border=\"1\" class=\"dataframe\">\n",
       "  <thead>\n",
       "    <tr style=\"text-align: right;\">\n",
       "      <th></th>\n",
       "      <th>D</th>\n",
       "      <th>M</th>\n",
       "      <th>Prob</th>\n",
       "    </tr>\n",
       "  </thead>\n",
       "  <tbody>\n",
       "    <tr>\n",
       "      <th>0</th>\n",
       "      <td>1</td>\n",
       "      <td>1</td>\n",
       "      <td>0.90</td>\n",
       "    </tr>\n",
       "    <tr>\n",
       "      <th>1</th>\n",
       "      <td>1</td>\n",
       "      <td>0</td>\n",
       "      <td>0.01</td>\n",
       "    </tr>\n",
       "    <tr>\n",
       "      <th>2</th>\n",
       "      <td>0</td>\n",
       "      <td>1</td>\n",
       "      <td>0.10</td>\n",
       "    </tr>\n",
       "    <tr>\n",
       "      <th>3</th>\n",
       "      <td>0</td>\n",
       "      <td>0</td>\n",
       "      <td>0.99</td>\n",
       "    </tr>\n",
       "  </tbody>\n",
       "</table>\n",
       "</div>"
      ],
      "text/plain": [
       "   D  M  Prob\n",
       "0  1  1  0.90\n",
       "1  1  0  0.01\n",
       "2  0  1  0.10\n",
       "3  0  0  0.99"
      ]
     },
     "execution_count": 131,
     "metadata": {},
     "output_type": "execute_result"
    }
   ],
   "source": [
    "d = pd.DataFrame(columns=['D','M','Prob'])\n",
    "d.loc[:,'D'] = [1,1,0,0]\n",
    "d.loc[:,'M'] = [1,0,1,0]\n",
    "d.loc[:,'Prob'] = [0.9,0.01,0.1,0.99]\n",
    "d.head()"
   ]
  },
  {
   "cell_type": "markdown",
   "metadata": {},
   "source": [
    "## Probability Table For P(B|M)"
   ]
  },
  {
   "cell_type": "code",
   "execution_count": 117,
   "metadata": {},
   "outputs": [
    {
     "data": {
      "text/html": [
       "<div>\n",
       "<style scoped>\n",
       "    .dataframe tbody tr th:only-of-type {\n",
       "        vertical-align: middle;\n",
       "    }\n",
       "\n",
       "    .dataframe tbody tr th {\n",
       "        vertical-align: top;\n",
       "    }\n",
       "\n",
       "    .dataframe thead th {\n",
       "        text-align: right;\n",
       "    }\n",
       "</style>\n",
       "<table border=\"1\" class=\"dataframe\">\n",
       "  <thead>\n",
       "    <tr style=\"text-align: right;\">\n",
       "      <th></th>\n",
       "      <th>B</th>\n",
       "      <th>M</th>\n",
       "      <th>Prob</th>\n",
       "    </tr>\n",
       "  </thead>\n",
       "  <tbody>\n",
       "    <tr>\n",
       "      <th>0</th>\n",
       "      <td>1</td>\n",
       "      <td>1</td>\n",
       "      <td>0.99</td>\n",
       "    </tr>\n",
       "    <tr>\n",
       "      <th>1</th>\n",
       "      <td>1</td>\n",
       "      <td>0</td>\n",
       "      <td>0.10</td>\n",
       "    </tr>\n",
       "    <tr>\n",
       "      <th>2</th>\n",
       "      <td>0</td>\n",
       "      <td>1</td>\n",
       "      <td>0.01</td>\n",
       "    </tr>\n",
       "    <tr>\n",
       "      <th>3</th>\n",
       "      <td>0</td>\n",
       "      <td>0</td>\n",
       "      <td>0.90</td>\n",
       "    </tr>\n",
       "  </tbody>\n",
       "</table>\n",
       "</div>"
      ],
      "text/plain": [
       "   B  M  Prob\n",
       "0  1  1  0.99\n",
       "1  1  0  0.10\n",
       "2  0  1  0.01\n",
       "3  0  0  0.90"
      ]
     },
     "execution_count": 117,
     "metadata": {},
     "output_type": "execute_result"
    }
   ],
   "source": [
    "b = pd.DataFrame(columns=['B','M','Prob'])\n",
    "b.loc[:,'B'] = [1,1,0,0]\n",
    "b.loc[:,'M'] = [1,0,1,0]\n",
    "b.loc[:,'Prob'] = [0.99,0.1,0.01,0.9]\n",
    "b.head()"
   ]
  },
  {
   "cell_type": "markdown",
   "metadata": {},
   "source": [
    "## Probability Table for P(J|B)"
   ]
  },
  {
   "cell_type": "code",
   "execution_count": 126,
   "metadata": {},
   "outputs": [
    {
     "data": {
      "text/html": [
       "<div>\n",
       "<style scoped>\n",
       "    .dataframe tbody tr th:only-of-type {\n",
       "        vertical-align: middle;\n",
       "    }\n",
       "\n",
       "    .dataframe tbody tr th {\n",
       "        vertical-align: top;\n",
       "    }\n",
       "\n",
       "    .dataframe thead th {\n",
       "        text-align: right;\n",
       "    }\n",
       "</style>\n",
       "<table border=\"1\" class=\"dataframe\">\n",
       "  <thead>\n",
       "    <tr style=\"text-align: right;\">\n",
       "      <th></th>\n",
       "      <th>J</th>\n",
       "      <th>B</th>\n",
       "      <th>Prob</th>\n",
       "    </tr>\n",
       "  </thead>\n",
       "  <tbody>\n",
       "    <tr>\n",
       "      <th>0</th>\n",
       "      <td>1</td>\n",
       "      <td>1</td>\n",
       "      <td>0.80</td>\n",
       "    </tr>\n",
       "    <tr>\n",
       "      <th>1</th>\n",
       "      <td>1</td>\n",
       "      <td>0</td>\n",
       "      <td>0.01</td>\n",
       "    </tr>\n",
       "    <tr>\n",
       "      <th>2</th>\n",
       "      <td>0</td>\n",
       "      <td>1</td>\n",
       "      <td>0.20</td>\n",
       "    </tr>\n",
       "    <tr>\n",
       "      <th>3</th>\n",
       "      <td>0</td>\n",
       "      <td>0</td>\n",
       "      <td>0.99</td>\n",
       "    </tr>\n",
       "  </tbody>\n",
       "</table>\n",
       "</div>"
      ],
      "text/plain": [
       "   J  B  Prob\n",
       "0  1  1  0.80\n",
       "1  1  0  0.01\n",
       "2  0  1  0.20\n",
       "3  0  0  0.99"
      ]
     },
     "execution_count": 126,
     "metadata": {},
     "output_type": "execute_result"
    }
   ],
   "source": [
    "j = pd.DataFrame(columns=['J','B','Prob'])\n",
    "j.loc[:,'J'] = [1,1,0,0]\n",
    "j.loc[:,'B'] = [1,0,1,0]\n",
    "j.loc[:,'Prob'] = [0.8,0.01,0.2,0.99]\n",
    "j.head()"
   ]
  },
  {
   "cell_type": "markdown",
   "metadata": {},
   "source": [
    "## Probability Table for P(W|D,B,J)"
   ]
  },
  {
   "cell_type": "code",
   "execution_count": 107,
   "metadata": {},
   "outputs": [
    {
     "data": {
      "text/html": [
       "<div>\n",
       "<style scoped>\n",
       "    .dataframe tbody tr th:only-of-type {\n",
       "        vertical-align: middle;\n",
       "    }\n",
       "\n",
       "    .dataframe tbody tr th {\n",
       "        vertical-align: top;\n",
       "    }\n",
       "\n",
       "    .dataframe thead th {\n",
       "        text-align: right;\n",
       "    }\n",
       "</style>\n",
       "<table border=\"1\" class=\"dataframe\">\n",
       "  <thead>\n",
       "    <tr style=\"text-align: right;\">\n",
       "      <th></th>\n",
       "      <th>W</th>\n",
       "      <th>D</th>\n",
       "      <th>B</th>\n",
       "      <th>J</th>\n",
       "      <th>Prob</th>\n",
       "    </tr>\n",
       "  </thead>\n",
       "  <tbody>\n",
       "    <tr>\n",
       "      <th>0</th>\n",
       "      <td>1</td>\n",
       "      <td>1</td>\n",
       "      <td>1</td>\n",
       "      <td>1</td>\n",
       "      <td>0.1</td>\n",
       "    </tr>\n",
       "    <tr>\n",
       "      <th>1</th>\n",
       "      <td>1</td>\n",
       "      <td>1</td>\n",
       "      <td>1</td>\n",
       "      <td>0</td>\n",
       "      <td>0.2</td>\n",
       "    </tr>\n",
       "    <tr>\n",
       "      <th>2</th>\n",
       "      <td>1</td>\n",
       "      <td>1</td>\n",
       "      <td>0</td>\n",
       "      <td>1</td>\n",
       "      <td>0.2</td>\n",
       "    </tr>\n",
       "    <tr>\n",
       "      <th>3</th>\n",
       "      <td>1</td>\n",
       "      <td>1</td>\n",
       "      <td>0</td>\n",
       "      <td>0</td>\n",
       "      <td>0.1</td>\n",
       "    </tr>\n",
       "    <tr>\n",
       "      <th>4</th>\n",
       "      <td>1</td>\n",
       "      <td>0</td>\n",
       "      <td>1</td>\n",
       "      <td>1</td>\n",
       "      <td>0.6</td>\n",
       "    </tr>\n",
       "    <tr>\n",
       "      <th>5</th>\n",
       "      <td>1</td>\n",
       "      <td>0</td>\n",
       "      <td>1</td>\n",
       "      <td>0</td>\n",
       "      <td>0.3</td>\n",
       "    </tr>\n",
       "    <tr>\n",
       "      <th>6</th>\n",
       "      <td>1</td>\n",
       "      <td>0</td>\n",
       "      <td>0</td>\n",
       "      <td>1</td>\n",
       "      <td>0.2</td>\n",
       "    </tr>\n",
       "    <tr>\n",
       "      <th>7</th>\n",
       "      <td>1</td>\n",
       "      <td>0</td>\n",
       "      <td>0</td>\n",
       "      <td>0</td>\n",
       "      <td>0.1</td>\n",
       "    </tr>\n",
       "    <tr>\n",
       "      <th>8</th>\n",
       "      <td>0</td>\n",
       "      <td>1</td>\n",
       "      <td>1</td>\n",
       "      <td>1</td>\n",
       "      <td>0.9</td>\n",
       "    </tr>\n",
       "    <tr>\n",
       "      <th>9</th>\n",
       "      <td>0</td>\n",
       "      <td>1</td>\n",
       "      <td>1</td>\n",
       "      <td>0</td>\n",
       "      <td>0.8</td>\n",
       "    </tr>\n",
       "    <tr>\n",
       "      <th>10</th>\n",
       "      <td>0</td>\n",
       "      <td>1</td>\n",
       "      <td>0</td>\n",
       "      <td>1</td>\n",
       "      <td>0.8</td>\n",
       "    </tr>\n",
       "    <tr>\n",
       "      <th>11</th>\n",
       "      <td>0</td>\n",
       "      <td>1</td>\n",
       "      <td>0</td>\n",
       "      <td>0</td>\n",
       "      <td>0.9</td>\n",
       "    </tr>\n",
       "    <tr>\n",
       "      <th>12</th>\n",
       "      <td>0</td>\n",
       "      <td>0</td>\n",
       "      <td>1</td>\n",
       "      <td>1</td>\n",
       "      <td>0.4</td>\n",
       "    </tr>\n",
       "    <tr>\n",
       "      <th>13</th>\n",
       "      <td>0</td>\n",
       "      <td>0</td>\n",
       "      <td>1</td>\n",
       "      <td>0</td>\n",
       "      <td>0.7</td>\n",
       "    </tr>\n",
       "    <tr>\n",
       "      <th>14</th>\n",
       "      <td>0</td>\n",
       "      <td>0</td>\n",
       "      <td>0</td>\n",
       "      <td>1</td>\n",
       "      <td>0.8</td>\n",
       "    </tr>\n",
       "    <tr>\n",
       "      <th>15</th>\n",
       "      <td>0</td>\n",
       "      <td>0</td>\n",
       "      <td>0</td>\n",
       "      <td>0</td>\n",
       "      <td>0.9</td>\n",
       "    </tr>\n",
       "  </tbody>\n",
       "</table>\n",
       "</div>"
      ],
      "text/plain": [
       "    W  D  B  J  Prob\n",
       "0   1  1  1  1   0.1\n",
       "1   1  1  1  0   0.2\n",
       "2   1  1  0  1   0.2\n",
       "3   1  1  0  0   0.1\n",
       "4   1  0  1  1   0.6\n",
       "5   1  0  1  0   0.3\n",
       "6   1  0  0  1   0.2\n",
       "7   1  0  0  0   0.1\n",
       "8   0  1  1  1   0.9\n",
       "9   0  1  1  0   0.8\n",
       "10  0  1  0  1   0.8\n",
       "11  0  1  0  0   0.9\n",
       "12  0  0  1  1   0.4\n",
       "13  0  0  1  0   0.7\n",
       "14  0  0  0  1   0.8\n",
       "15  0  0  0  0   0.9"
      ]
     },
     "execution_count": 107,
     "metadata": {},
     "output_type": "execute_result"
    }
   ],
   "source": [
    "w = pd.DataFrame(columns=['W','D','B','J','Prob'])\n",
    "w.loc[:,'W'] = [1,1,1,1,1,1,1,1,0,0,0,0,0,0,0,0]\n",
    "w.loc[:,'D'] = [1,1,1,1,0,0,0,0,1,1,1,1,0,0,0,0]\n",
    "w.loc[:,'B'] = [1,1,0,0,1,1,0,0,1,1,0,0,1,1,0,0]\n",
    "w.loc[:,'J'] = [1,0,1,0,1,0,1,0,1,0,1,0,1,0,1,0]\n",
    "w.loc[:,'Prob'] = [0.1,0.2,0.2,0.1,0.6,0.3,0.2,0.1,\n",
    "                   0.9,0.8,0.8,0.9,0.4,0.7,0.8,0.9]\n",
    "w"
   ]
  },
  {
   "cell_type": "code",
   "execution_count": 23,
   "metadata": {},
   "outputs": [],
   "source": [
    "combos = [[0,0,0],\n",
    "          [0,0,1],\n",
    "          [0,1,0],\n",
    "          [0,1,1],\n",
    "          [1,0,0],\n",
    "          [1,0,1],\n",
    "          [1,1,0],\n",
    "          [1,1,1]]"
   ]
  },
  {
   "cell_type": "code",
   "execution_count": 115,
   "metadata": {},
   "outputs": [],
   "source": [
    "def compute_prob(m_val=1):   \n",
    "#     new_m = m[m['M'] == m_val].reset_index(drop=True)\n",
    "    total_prob = 0\n",
    "    for combo in combos:\n",
    "        new_w = w[w['W'] == 0]\n",
    "        new_d = d[d['M'] == m_val]\n",
    "        new_b = b[b['M'] == m_val]\n",
    "#         d_val = combo[0]\n",
    "        d_prob = new_d[new_d['D'] == combo[0]].reset_index(drop=True).loc[0,'Prob']\n",
    "        new_w = new_w[new_w['D'] == combo[0]]\n",
    "#         b_val = combo[1]\n",
    "        b_prob = new_b[new_b['B'] == combo[1]].reset_index(drop=True).loc[0,'Prob']\n",
    "        new_w = new_w[new_w['B'] == combo[1]]\n",
    "#         j_val = combo[2]\n",
    "        new_j = j[j['B'] == combo[1]].reset_index(drop=True)\n",
    "        j_prob = new_j[new_j['J'] == combo[2]].reset_index(drop=True).loc[0,'Prob']\n",
    "        new_w = new_w[new_w['J'] == combo[2]].reset_index(drop=True)\n",
    "        \n",
    "#         m_prob = new_m.loc[0,'Prob']\n",
    "        w_prob = new_w.loc[0,'Prob']\n",
    "        total_prob += d_prob*b_prob*j_prob*w_prob\n",
    "    return total_prob"
   ]
  },
  {
   "cell_type": "code",
   "execution_count": 132,
   "metadata": {},
   "outputs": [
    {
     "name": "stdout",
     "output_type": "stream",
     "text": [
      "Probability for not poverty with microloan: 0.8386100000000001\n",
      "Probability for not poverty without microloan: 0.8555200000000002\n"
     ]
    }
   ],
   "source": [
    "print(\"Probability for not poverty with microloan: {}\".format(compute_prob(m_val=1)))\n",
    "print(\"Probability for not poverty without microloan: {}\".format(compute_prob(m_val=0)))"
   ]
  },
  {
   "cell_type": "markdown",
   "metadata": {},
   "source": [
    "## Explanation/Justification\n",
    "\n",
    "Each table affects the results both very similarly yet differently. It seems for our P(W|D,B,J) table plays as the constant, yet specifically show how much each given variable affects poverty on a whole scale. I assumed that most people didn't make it out of poverty given they have a business (B), don't offset their income (J) and when they don't use microloans for other purposes (D). The other probability tables show similar results where more skewed probabilities (such as in P(J=F|B=F) = 0.99) give higher probability values when multiplied together with other high values. Women using microloans for debt being extremely can significantly influence their ability to be out of poverty, as is seen when P(D=T|M=T). We see similar results for the other two tables.\n"
   ]
  },
  {
   "cell_type": "markdown",
   "metadata": {},
   "source": [
    "# Problem 3"
   ]
  },
  {
   "cell_type": "markdown",
   "metadata": {},
   "source": [
    "### (i) Identify random variables from [2] that cause desirable effects, as reported by the authors. Use the random variables identified from the abstract in the list above. Additionally, use causal random variables identified using the focus groups discussed on pages 87 and 88.\n",
    "\n",
    "Some of the random variables talked about in the article include assets, children's education, empowerment, and especially domestic violence. Another important random variable is children's/parent's health, as microloans could be used to pay for major health expenditures."
   ]
  },
  {
   "cell_type": "markdown",
   "metadata": {},
   "source": [
    "### (ii) Using either binary random variables or random variables with only three possible outcomes, identify the set of possible values that each random variable can take on.\n",
    "\n",
    " - Assets: [0,5k,10k] for monetary gain\n",
    " - Children's education: [T,F] whether children are actually in school or not\n",
    " - Empowerment: [T,F]\n",
    " - Domestic Violence: [T,F]\n",
    " - Children's Health: [T,F] whether they are healthy or not"
   ]
  },
  {
   "cell_type": "markdown",
   "metadata": {},
   "source": [
    "### (iii) Draw Bayesian Network \n",
    "Please reference the written assignment paper"
   ]
  },
  {
   "cell_type": "markdown",
   "metadata": {},
   "source": [
    "### (iv) Make up conditional probability tables for your Bayesian network\n",
    "\n",
    "Notation for variables of Interest:\n",
    " - M: Money from NGO\n",
    " - FL: Flexible Repayment Schedule\n",
    " - D: Domestic Violence\n",
    " - FO: Focus on Rapid Income\n",
    " - A: Area Land Leased\n",
    " - K: Knows Household Income"
   ]
  },
  {
   "cell_type": "markdown",
   "metadata": {},
   "source": [
    "## Probability table for P(M)"
   ]
  },
  {
   "cell_type": "code",
   "execution_count": 133,
   "metadata": {},
   "outputs": [
    {
     "data": {
      "text/html": [
       "<div>\n",
       "<style scoped>\n",
       "    .dataframe tbody tr th:only-of-type {\n",
       "        vertical-align: middle;\n",
       "    }\n",
       "\n",
       "    .dataframe tbody tr th {\n",
       "        vertical-align: top;\n",
       "    }\n",
       "\n",
       "    .dataframe thead th {\n",
       "        text-align: right;\n",
       "    }\n",
       "</style>\n",
       "<table border=\"1\" class=\"dataframe\">\n",
       "  <thead>\n",
       "    <tr style=\"text-align: right;\">\n",
       "      <th></th>\n",
       "      <th>M</th>\n",
       "      <th>Prob</th>\n",
       "    </tr>\n",
       "  </thead>\n",
       "  <tbody>\n",
       "    <tr>\n",
       "      <th>0</th>\n",
       "      <td>1</td>\n",
       "      <td>0.7</td>\n",
       "    </tr>\n",
       "    <tr>\n",
       "      <th>1</th>\n",
       "      <td>0</td>\n",
       "      <td>0.3</td>\n",
       "    </tr>\n",
       "  </tbody>\n",
       "</table>\n",
       "</div>"
      ],
      "text/plain": [
       "   M  Prob\n",
       "0  1   0.7\n",
       "1  0   0.3"
      ]
     },
     "execution_count": 133,
     "metadata": {},
     "output_type": "execute_result"
    }
   ],
   "source": [
    "m = pd.DataFrame(columns=['M','Prob'])\n",
    "m.loc[:,'M'] = [1,0]\n",
    "m.loc[:,'Prob'] = [0.7,0.3]\n",
    "m.head()"
   ]
  },
  {
   "cell_type": "markdown",
   "metadata": {},
   "source": [
    "## Probability table for P(FL|M)"
   ]
  },
  {
   "cell_type": "code",
   "execution_count": 337,
   "metadata": {},
   "outputs": [
    {
     "data": {
      "text/html": [
       "<div>\n",
       "<style scoped>\n",
       "    .dataframe tbody tr th:only-of-type {\n",
       "        vertical-align: middle;\n",
       "    }\n",
       "\n",
       "    .dataframe tbody tr th {\n",
       "        vertical-align: top;\n",
       "    }\n",
       "\n",
       "    .dataframe thead th {\n",
       "        text-align: right;\n",
       "    }\n",
       "</style>\n",
       "<table border=\"1\" class=\"dataframe\">\n",
       "  <thead>\n",
       "    <tr style=\"text-align: right;\">\n",
       "      <th></th>\n",
       "      <th>FL</th>\n",
       "      <th>M</th>\n",
       "      <th>Prob</th>\n",
       "    </tr>\n",
       "  </thead>\n",
       "  <tbody>\n",
       "    <tr>\n",
       "      <th>0</th>\n",
       "      <td>1</td>\n",
       "      <td>1</td>\n",
       "      <td>0.9</td>\n",
       "    </tr>\n",
       "    <tr>\n",
       "      <th>1</th>\n",
       "      <td>1</td>\n",
       "      <td>0</td>\n",
       "      <td>0.5</td>\n",
       "    </tr>\n",
       "    <tr>\n",
       "      <th>2</th>\n",
       "      <td>0</td>\n",
       "      <td>1</td>\n",
       "      <td>0.1</td>\n",
       "    </tr>\n",
       "    <tr>\n",
       "      <th>3</th>\n",
       "      <td>0</td>\n",
       "      <td>0</td>\n",
       "      <td>0.5</td>\n",
       "    </tr>\n",
       "  </tbody>\n",
       "</table>\n",
       "</div>"
      ],
      "text/plain": [
       "   FL  M  Prob\n",
       "0   1  1   0.9\n",
       "1   1  0   0.5\n",
       "2   0  1   0.1\n",
       "3   0  0   0.5"
      ]
     },
     "execution_count": 337,
     "metadata": {},
     "output_type": "execute_result"
    }
   ],
   "source": [
    "fl = pd.DataFrame(columns=['FL','M','Prob'])\n",
    "fl.loc[:,'FL'] = [1,1,0,0]\n",
    "fl.loc[:,'M'] = [1,0,1,0]\n",
    "fl.loc[:,'Prob'] = [0.9,0.5,0.1,0.5]\n",
    "fl.head()"
   ]
  },
  {
   "cell_type": "markdown",
   "metadata": {},
   "source": [
    "## Probability table for P(D|FL)"
   ]
  },
  {
   "cell_type": "code",
   "execution_count": 203,
   "metadata": {},
   "outputs": [
    {
     "data": {
      "text/html": [
       "<div>\n",
       "<style scoped>\n",
       "    .dataframe tbody tr th:only-of-type {\n",
       "        vertical-align: middle;\n",
       "    }\n",
       "\n",
       "    .dataframe tbody tr th {\n",
       "        vertical-align: top;\n",
       "    }\n",
       "\n",
       "    .dataframe thead th {\n",
       "        text-align: right;\n",
       "    }\n",
       "</style>\n",
       "<table border=\"1\" class=\"dataframe\">\n",
       "  <thead>\n",
       "    <tr style=\"text-align: right;\">\n",
       "      <th></th>\n",
       "      <th>D</th>\n",
       "      <th>FL</th>\n",
       "      <th>Prob</th>\n",
       "    </tr>\n",
       "  </thead>\n",
       "  <tbody>\n",
       "    <tr>\n",
       "      <th>0</th>\n",
       "      <td>1</td>\n",
       "      <td>1</td>\n",
       "      <td>0.01</td>\n",
       "    </tr>\n",
       "    <tr>\n",
       "      <th>1</th>\n",
       "      <td>1</td>\n",
       "      <td>0</td>\n",
       "      <td>0.50</td>\n",
       "    </tr>\n",
       "    <tr>\n",
       "      <th>2</th>\n",
       "      <td>0</td>\n",
       "      <td>1</td>\n",
       "      <td>0.99</td>\n",
       "    </tr>\n",
       "    <tr>\n",
       "      <th>3</th>\n",
       "      <td>0</td>\n",
       "      <td>0</td>\n",
       "      <td>0.50</td>\n",
       "    </tr>\n",
       "  </tbody>\n",
       "</table>\n",
       "</div>"
      ],
      "text/plain": [
       "   D  FL  Prob\n",
       "0  1   1  0.01\n",
       "1  1   0  0.50\n",
       "2  0   1  0.99\n",
       "3  0   0  0.50"
      ]
     },
     "execution_count": 203,
     "metadata": {},
     "output_type": "execute_result"
    }
   ],
   "source": [
    "d = pd.DataFrame(columns=['D','FL','Prob'])\n",
    "d.loc[:,'D'] = [1,1,0,0]\n",
    "d.loc[:,'FL'] = [1,0,1,0]\n",
    "d.loc[:,'Prob'] = [0.01,0.5,0.99,0.5]\n",
    "d.head()"
   ]
  },
  {
   "cell_type": "markdown",
   "metadata": {},
   "source": [
    "## Probability table for P(FO|M)"
   ]
  },
  {
   "cell_type": "code",
   "execution_count": 321,
   "metadata": {},
   "outputs": [
    {
     "data": {
      "text/html": [
       "<div>\n",
       "<style scoped>\n",
       "    .dataframe tbody tr th:only-of-type {\n",
       "        vertical-align: middle;\n",
       "    }\n",
       "\n",
       "    .dataframe tbody tr th {\n",
       "        vertical-align: top;\n",
       "    }\n",
       "\n",
       "    .dataframe thead th {\n",
       "        text-align: right;\n",
       "    }\n",
       "</style>\n",
       "<table border=\"1\" class=\"dataframe\">\n",
       "  <thead>\n",
       "    <tr style=\"text-align: right;\">\n",
       "      <th></th>\n",
       "      <th>FO</th>\n",
       "      <th>M</th>\n",
       "      <th>Prob</th>\n",
       "    </tr>\n",
       "  </thead>\n",
       "  <tbody>\n",
       "    <tr>\n",
       "      <th>0</th>\n",
       "      <td>1</td>\n",
       "      <td>1</td>\n",
       "      <td>0.7</td>\n",
       "    </tr>\n",
       "    <tr>\n",
       "      <th>1</th>\n",
       "      <td>1</td>\n",
       "      <td>0</td>\n",
       "      <td>0.9</td>\n",
       "    </tr>\n",
       "    <tr>\n",
       "      <th>2</th>\n",
       "      <td>0</td>\n",
       "      <td>1</td>\n",
       "      <td>0.3</td>\n",
       "    </tr>\n",
       "    <tr>\n",
       "      <th>3</th>\n",
       "      <td>0</td>\n",
       "      <td>0</td>\n",
       "      <td>0.1</td>\n",
       "    </tr>\n",
       "  </tbody>\n",
       "</table>\n",
       "</div>"
      ],
      "text/plain": [
       "   FO  M  Prob\n",
       "0   1  1   0.7\n",
       "1   1  0   0.9\n",
       "2   0  1   0.3\n",
       "3   0  0   0.1"
      ]
     },
     "execution_count": 321,
     "metadata": {},
     "output_type": "execute_result"
    }
   ],
   "source": [
    "fo = pd.DataFrame(columns=['FO','M','Prob'])\n",
    "fo.loc[:,'FO'] = [1,1,0,0]\n",
    "fo.loc[:,'M'] = [1,0,1,0]\n",
    "fo.loc[:,'Prob'] = [0.7,0.9,0.3,0.1]\n",
    "fo.head()"
   ]
  },
  {
   "cell_type": "markdown",
   "metadata": {},
   "source": [
    "## Probability table for P(A|FO)"
   ]
  },
  {
   "cell_type": "code",
   "execution_count": 349,
   "metadata": {},
   "outputs": [
    {
     "data": {
      "text/html": [
       "<div>\n",
       "<style scoped>\n",
       "    .dataframe tbody tr th:only-of-type {\n",
       "        vertical-align: middle;\n",
       "    }\n",
       "\n",
       "    .dataframe tbody tr th {\n",
       "        vertical-align: top;\n",
       "    }\n",
       "\n",
       "    .dataframe thead th {\n",
       "        text-align: right;\n",
       "    }\n",
       "</style>\n",
       "<table border=\"1\" class=\"dataframe\">\n",
       "  <thead>\n",
       "    <tr style=\"text-align: right;\">\n",
       "      <th></th>\n",
       "      <th>A</th>\n",
       "      <th>FO</th>\n",
       "      <th>Prob</th>\n",
       "    </tr>\n",
       "  </thead>\n",
       "  <tbody>\n",
       "    <tr>\n",
       "      <th>0</th>\n",
       "      <td>1</td>\n",
       "      <td>1</td>\n",
       "      <td>0.6</td>\n",
       "    </tr>\n",
       "    <tr>\n",
       "      <th>1</th>\n",
       "      <td>1</td>\n",
       "      <td>0</td>\n",
       "      <td>0.3</td>\n",
       "    </tr>\n",
       "    <tr>\n",
       "      <th>2</th>\n",
       "      <td>0</td>\n",
       "      <td>1</td>\n",
       "      <td>0.4</td>\n",
       "    </tr>\n",
       "    <tr>\n",
       "      <th>3</th>\n",
       "      <td>0</td>\n",
       "      <td>0</td>\n",
       "      <td>0.7</td>\n",
       "    </tr>\n",
       "  </tbody>\n",
       "</table>\n",
       "</div>"
      ],
      "text/plain": [
       "   A  FO  Prob\n",
       "0  1   1   0.6\n",
       "1  1   0   0.3\n",
       "2  0   1   0.4\n",
       "3  0   0   0.7"
      ]
     },
     "execution_count": 349,
     "metadata": {},
     "output_type": "execute_result"
    }
   ],
   "source": [
    "a = pd.DataFrame(columns=['A','FO','Prob'])\n",
    "a.loc[:,'A'] = [1,1,0,0]\n",
    "a.loc[:,'FO'] = [1,0,1,0]\n",
    "a.loc[:,'Prob'] = [0.6,0.3,0.4,0.7]\n",
    "a.head()"
   ]
  },
  {
   "cell_type": "markdown",
   "metadata": {},
   "source": [
    "## Probability table for P(K|FO)"
   ]
  },
  {
   "cell_type": "code",
   "execution_count": 362,
   "metadata": {},
   "outputs": [
    {
     "data": {
      "text/html": [
       "<div>\n",
       "<style scoped>\n",
       "    .dataframe tbody tr th:only-of-type {\n",
       "        vertical-align: middle;\n",
       "    }\n",
       "\n",
       "    .dataframe tbody tr th {\n",
       "        vertical-align: top;\n",
       "    }\n",
       "\n",
       "    .dataframe thead th {\n",
       "        text-align: right;\n",
       "    }\n",
       "</style>\n",
       "<table border=\"1\" class=\"dataframe\">\n",
       "  <thead>\n",
       "    <tr style=\"text-align: right;\">\n",
       "      <th></th>\n",
       "      <th>K</th>\n",
       "      <th>FO</th>\n",
       "      <th>Prob</th>\n",
       "    </tr>\n",
       "  </thead>\n",
       "  <tbody>\n",
       "    <tr>\n",
       "      <th>0</th>\n",
       "      <td>1</td>\n",
       "      <td>1</td>\n",
       "      <td>0.8</td>\n",
       "    </tr>\n",
       "    <tr>\n",
       "      <th>1</th>\n",
       "      <td>1</td>\n",
       "      <td>0</td>\n",
       "      <td>0.9</td>\n",
       "    </tr>\n",
       "    <tr>\n",
       "      <th>2</th>\n",
       "      <td>0</td>\n",
       "      <td>1</td>\n",
       "      <td>0.2</td>\n",
       "    </tr>\n",
       "    <tr>\n",
       "      <th>3</th>\n",
       "      <td>0</td>\n",
       "      <td>0</td>\n",
       "      <td>0.1</td>\n",
       "    </tr>\n",
       "  </tbody>\n",
       "</table>\n",
       "</div>"
      ],
      "text/plain": [
       "   K  FO  Prob\n",
       "0  1   1   0.8\n",
       "1  1   0   0.9\n",
       "2  0   1   0.2\n",
       "3  0   0   0.1"
      ]
     },
     "execution_count": 362,
     "metadata": {},
     "output_type": "execute_result"
    }
   ],
   "source": [
    "k = pd.DataFrame(columns=['K','FO','Prob'])\n",
    "k.loc[:,'K'] = [1,1,0,0]\n",
    "k.loc[:,'FO'] = [1,0,1,0]\n",
    "k.loc[:,'Prob'] = [0.8,0.9,0.2,0.1]\n",
    "k.head()"
   ]
  },
  {
   "cell_type": "markdown",
   "metadata": {},
   "source": [
    "## Show P(A=T|M=T) ~= P(A=F|M=T)\n",
    "## Show P(A=T|M=T) ~= P(A=T|M=F)"
   ]
  },
  {
   "cell_type": "code",
   "execution_count": 365,
   "metadata": {},
   "outputs": [],
   "source": [
    "def part_i(a_val=0,m_val=0):\n",
    "    new_fo = fo[fo['M'] == m_val]\n",
    "    total = 0\n",
    "    for combo in [[0,0],[1,0],[0,1],[1,1]]:\n",
    "        fo_prob = new_fo[new_fo['FO'] == combo[0]].reset_index(drop=True).loc[0,'Prob']\n",
    "        new_a = a[a['FO'] == combo[0]]\n",
    "        a_prob = new_a[new_a['A'] == a_val].reset_index(drop=True).loc[0,'Prob']\n",
    "        new_k = k[k['FO'] == combo[0]]\n",
    "        k_prob = new_k[new_k['K'] == combo[1]].reset_index(drop=True).loc[0,'Prob']\n",
    "        total += fo_prob*a_prob*k_prob\n",
    "    return total"
   ]
  },
  {
   "cell_type": "code",
   "execution_count": 366,
   "metadata": {},
   "outputs": [
    {
     "name": "stdout",
     "output_type": "stream",
     "text": [
      "Probability for P(A=T|M=T): 0.51 ~= P(A=F|M=T): 0.49\n",
      "Probability for P(A=T|M=T): 0.51 ~= P(A=T|M=F): 0.5700000000000001\n"
     ]
    }
   ],
   "source": [
    "print(\"Probability for P(A=T|M=T): {} ~= P(A=F|M=T): {}\".format(part_i(a_val=1,m_val=1),part_i(a_val=0,m_val=1)))\n",
    "print(\"Probability for P(A=T|M=T): {} ~= P(A=T|M=F): {}\".format(part_i(a_val=1,m_val=1),part_i(a_val=1,m_val=0)))"
   ]
  },
  {
   "cell_type": "markdown",
   "metadata": {},
   "source": [
    "## Show P(K=T|M=T) >> P(K=F|M=T)\n",
    "## Show P(K=T|M=T) >> P(K=T|M=F)"
   ]
  },
  {
   "cell_type": "code",
   "execution_count": 367,
   "metadata": {},
   "outputs": [],
   "source": [
    "def part_ii(k_val=0,m_val=0):\n",
    "    new_fo = fo[fo['M'] == m_val]\n",
    "    total = 0\n",
    "    for combo in [[0,0],[1,0],[0,1],[1,1]]:\n",
    "        fo_prob = new_fo[new_fo['FO'] == combo[0]].reset_index(drop=True).loc[0,'Prob']\n",
    "        new_a = a[a['FO'] == combo[0]]\n",
    "        a_prob = new_a[new_a['A'] == combo[1]].reset_index(drop=True).loc[0,'Prob']\n",
    "        new_k = k[k['FO'] == combo[0]]\n",
    "        k_prob = new_k[new_k['K'] == k_val].reset_index(drop=True).loc[0,'Prob']\n",
    "        total += fo_prob*a_prob*k_prob\n",
    "    return total"
   ]
  },
  {
   "cell_type": "code",
   "execution_count": 369,
   "metadata": {},
   "outputs": [
    {
     "name": "stdout",
     "output_type": "stream",
     "text": [
      "Probability for P(K=T|M=T): 0.8300000000000001 >> P(K=F|M=T): 0.16999999999999998\n",
      "Probability for P(K=T|M=T): 0.8300000000000001 >> P(K=T|M=F): 0.81\n"
     ]
    }
   ],
   "source": [
    "print(\"Probability for P(K=T|M=T): {} >> P(K=F|M=T): {}\".format(part_ii(k_val=1,m_val=1),part_ii(k_val=0,m_val=1)))\n",
    "print(\"Probability for P(K=T|M=T): {} >> P(K=T|M=F): {}\".format(part_ii(k_val=1,m_val=1),part_ii(k_val=1,m_val=0)))"
   ]
  },
  {
   "cell_type": "markdown",
   "metadata": {},
   "source": [
    "## Show P(D=T|M=T) << P(D=F|M=T)\n",
    "## Show P(D=T|M=T) << P(D=T|M=F)"
   ]
  },
  {
   "cell_type": "code",
   "execution_count": 214,
   "metadata": {},
   "outputs": [],
   "source": [
    "def part_iii(d_val=0,m_val=0):\n",
    "    new_fl = fl[fl['M'] == m_val]\n",
    "    total = 0\n",
    "    for i in [0,1]:\n",
    "        fl_prob = new_fl[new_fl['FL'] == i].reset_index(drop=True).loc[0,'Prob']\n",
    "        new_d = d[d['FL'] == i]\n",
    "        d_prob = new_d[new_d['D'] == d_val].reset_index(drop=True).loc[0,'Prob']\n",
    "        total += fl_prob * d_prob\n",
    "    return total"
   ]
  },
  {
   "cell_type": "code",
   "execution_count": 204,
   "metadata": {},
   "outputs": [
    {
     "name": "stdout",
     "output_type": "stream",
     "text": [
      "Probability for P(D=T|M=T): 0.059000000000000004 << P(D=F|M=T): 0.9410000000000001\n",
      "Probability for P(D=T|M=T): 0.059000000000000004 << P(D=T|M=F): 0.255\n"
     ]
    }
   ],
   "source": [
    "print(\"Probability for P(D=T|M=T): {} << P(D=F|M=T): {}\".format(part_iii(d_val=1,m_val=1),part_iii(d_val=0,m_val=1)))\n",
    "print(\"Probability for P(D=T|M=T): {} << P(D=T|M=F): {}\".format(part_iii(d_val=1,m_val=1),part_iii(d_val=1,m_val=0)))"
   ]
  },
  {
   "cell_type": "code",
   "execution_count": null,
   "metadata": {},
   "outputs": [],
   "source": []
  }
 ],
 "metadata": {
  "kernelspec": {
   "display_name": "Python 3",
   "language": "python",
   "name": "python3"
  },
  "language_info": {
   "codemirror_mode": {
    "name": "ipython",
    "version": 3
   },
   "file_extension": ".py",
   "mimetype": "text/x-python",
   "name": "python",
   "nbconvert_exporter": "python",
   "pygments_lexer": "ipython3",
   "version": "3.6.8"
  }
 },
 "nbformat": 4,
 "nbformat_minor": 2
}
