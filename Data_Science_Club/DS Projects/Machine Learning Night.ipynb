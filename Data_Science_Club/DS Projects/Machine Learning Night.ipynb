{
 "cells": [
  {
   "cell_type": "markdown",
   "metadata": {},
   "source": [
    "# Machine Learning Night with the Math Finance Club"
   ]
  },
  {
   "cell_type": "markdown",
   "metadata": {},
   "source": [
    "## What is Machine Learning?"
   ]
  },
  {
   "cell_type": "markdown",
   "metadata": {},
   "source": [
    "Machine learning is an **application of artificial intelligence (AI) that provides systems the ability to \n",
    "automatically learn and improve from experience without being explicitly programmed.** Machine learning \n",
    "focuses on the development of computer programs that can access data and use it learn for themselves.\n",
    "\n",
    "The process of learning begins with observations or data, such as examples, direct experience, or instruction, in order to look for patterns in data and make better decisions in the future based on the examples that we provide. The primary aim is to **allow the computers learn automatically without human intervention or assistance and adjust actions accordingly.**\n",
    "\n",
    "### Modern Applications:\n",
    "- Tesla Self-Driving Cars\n",
    "- Spotify Music Recommendations (Discover Weekly Playlist) - company took off since using it in 2015\n",
    "- Target Pregnancy Prediction\n",
    "- Duality: using 100% machine learning to trade on stock market ($12B AUM after 1 year)\n",
    "\n"
   ]
  },
  {
   "cell_type": "markdown",
   "metadata": {},
   "source": [
    "## Machine Learning/Data Science Job Industry\n",
    "Data Science: #1 job coming out of college (~$95,000 starting)\n",
    "\n",
    "Machine Learning: job growth by 340%+ over past 3 years\n",
    "\n",
    "Articles:\n",
    "\n",
    "https://www.forbes.com/sites/louiscolumbus/2019/03/17/machine-learning-engineer-is-the-best-job-in-the-u-s-according-to-indeed/#56e429907bb0)\n",
    "\n",
    "https://www.techrepublic.com/article/why-machine-learning-engineer-is-the-best-job-in-america-not-developer-or-data-scientist/"
   ]
  },
  {
   "cell_type": "markdown",
   "metadata": {},
   "source": [
    "## Types of Machine Learning"
   ]
  },
  {
   "cell_type": "markdown",
   "metadata": {},
   "source": [
    "- **Supervised machine learning algorithms** can <u>apply what has been learned in the past to new data using labeled examples to predict future events</u>. Starting from the analysis of a known training dataset, the learning algorithm produces an inferred function to make predictions about the output values. The system is able to provide targets for any new input after sufficient training. The learning algorithm can also compare its output with the correct, intended output and find errors in order to modify the model accordingly.\n",
    "\n",
    "  - Examples of Models: Linear/Logistic Regression, Random Forests, Boosted Trees\n",
    "\n",
    "- **Unsupervised machine learning algorithms** are used when the information used to train is neither classified nor labeled. <u>Unsupervised learning studies how systems can infer a function to describe a hidden structure from unlabeled data</u>. The system doesn’t figure out the right output, but it explores the data and can draw inferences from datasets to describe hidden structures from unlabeled data.\n",
    "\n",
    "  - Examples of Models: Deep Neural Networks, Clustering\n",
    "  \n",
    "We will be focusing on Supervised machine learning for this segment"
   ]
  },
  {
   "cell_type": "markdown",
   "metadata": {},
   "source": [
    "## Areas of Supervised Machine Learning"
   ]
  },
  {
   "cell_type": "markdown",
   "metadata": {},
   "source": [
    "1. Regression - estimate the mapping function $f$ from the input variables $x$ to numerical or continuous output variables $y$. \n",
    "   - Computing the best $B_{i}$ for $y$ = $B_{0}$ + $B_{1}x_{1}$ + $B_{2}x_{2}$\n",
    "   - Examples of Models: <u>Linear/Logistic Regression</u>, GradientBoostedRegression\n",
    "   - Application: predicting housing prices, basketball team points in a game, nominal values \n",
    "\n",
    "\n",
    "2. Classification - estimating the mapping function $f$ from the input variables $x$ to discrete or categorical variables $y$.\n",
    "   - At times difficult to put into formula, but\n",
    "   - Examples of Models: <u>Random Forests</u>, K-nearest neighbors\n",
    "   - Application: predicting economic classes (upper, middle lower), movie ratings, categories\n",
    "\n",
    "\n",
    "### Easy way to remember which models to use\n",
    "Regression = predicting on <u>continuous values</u>\n",
    "\n",
    "Classification = predicting <u>categories</u>"
   ]
  },
  {
   "cell_type": "markdown",
   "metadata": {},
   "source": [
    "## Deep Dive into Linear Regression"
   ]
  },
  {
   "cell_type": "markdown",
   "metadata": {},
   "source": [
    "Goal: trying to predict $y$ using $x$ by finding the best $B$: $y$ = $B_{0}$ + $B_{1}x$\n",
    "\n",
    "How? **CALCULUS**"
   ]
  },
  {
   "cell_type": "markdown",
   "metadata": {},
   "source": [
    "**Objective Function**: $\\hat{y}$ = $B_{0}$ + $B_{1}x_{i}$\n",
    "\n",
    "**Error**: $\\frac{1}{n} \\sum_{i}{(y_{i} - \\hat{y})^2}$\n",
    "\n",
    "**Updating $B_{0}$**: $B_{0} = B_{0} - \\frac{2}{n} \\sum_{i}{(y_{i} - (\\beta_{0} + \\beta_{1} * x_{i}))}$ * -1\n",
    "\n",
    "**Updating $B_{1}$**: $B_{1} = B_{1} - \\frac{2}{n} \\sum_{i}{(y_{i} - (\\beta_{0} + \\beta_{1} * x_{i}))}$ * -x"
   ]
  },
  {
   "cell_type": "markdown",
   "metadata": {},
   "source": [
    "#### Actual Code"
   ]
  },
  {
   "cell_type": "code",
   "execution_count": 49,
   "metadata": {
    "scrolled": true
   },
   "outputs": [
    {
     "name": "stdout",
     "output_type": "stream",
     "text": [
      "Mean squared error: 37.89377859960245\n",
      "Explained variance score (best 1.0): 0.11327260794817162\n"
     ]
    }
   ],
   "source": [
    "from sklearn.datasets import load_boston\n",
    "import numpy as np\n",
    "import pandas as pd\n",
    "\n",
    "boston_data = load_boston()\n",
    "boston_df = pd.DataFrame(boston_data.data, columns=boston_data.feature_names)\n",
    "\n",
    "## Split data into train and test\n",
    "x_train = boston_df.iloc[:400,:]\n",
    "y_train = boston_data.target[:400]\n",
    "x_test = boston_df.iloc[400:,:]\n",
    "y_test = boston_data.target[400:]\n",
    "\n",
    "## Import functions to use for Linear Regression\n",
    "from sklearn.linear_model import LinearRegression \n",
    "from sklearn.metrics import mean_squared_error\n",
    "\n",
    "## Run it inside the regression\n",
    "reg = LinearRegression().fit(x_train, y_train)\n",
    "preds = reg.predict(x_test)\n",
    "score_model(preds)"
   ]
  },
  {
   "cell_type": "markdown",
   "metadata": {},
   "source": [
    "### Links:\n",
    "\n",
    "Regression vs Classification: https://medium.com/quick-code/regression-versus-classification-machine-learning-whats-the-difference-345c56dd15f7"
   ]
  },
  {
   "cell_type": "markdown",
   "metadata": {},
   "source": [
    "## Now it's your turn!!!"
   ]
  },
  {
   "cell_type": "markdown",
   "metadata": {},
   "source": [
    "Using models below, try to minimize the Mean squared error and maximize the Explained Variance. Plug in different models into the below "
   ]
  },
  {
   "cell_type": "code",
   "execution_count": 46,
   "metadata": {},
   "outputs": [],
   "source": [
    "def score_model(preds):\n",
    "    print('Mean squared error:', mean_squared_error(y_test,preds))\n",
    "    print('Explained variance score (best 1.0):', explained_variance_score(y_test,preds))"
   ]
  },
  {
   "cell_type": "code",
   "execution_count": 37,
   "metadata": {},
   "outputs": [],
   "source": [
    "from sklearn.linear_model import LinearRegression, ElasticNetCV, ElasticNet\n",
    "from sklearn.linear_model import Ridge, RidgeCV, LassoCV, LassoLarsCV\n",
    "from sklearn.linear_model import ElasticNet, Lasso,  BayesianRidge, SGDRegressor, LassoLars\n",
    "from sklearn.ensemble import RandomForestRegressor, GradientBoostingRegressor, ExtraTreesRegressor, AdaBoostRegressor\n",
    "from sklearn.metrics import mean_squared_error, explained_variance_score"
   ]
  },
  {
   "cell_type": "code",
   "execution_count": 55,
   "metadata": {},
   "outputs": [
    {
     "name": "stdout",
     "output_type": "stream",
     "text": [
      "Mean squared error: 21.668677158204268\n",
      "Explained variance score (best 1.0): 0.31352648103945857\n"
     ]
    }
   ],
   "source": [
    "reg = Lasso().fit(x_train, y_train)\n",
    "preds = reg.predict(x_test)\n",
    "score_model(preds)"
   ]
  },
  {
   "cell_type": "markdown",
   "metadata": {},
   "source": [
    "### Use Ensembling Methods to help Minimize the results"
   ]
  },
  {
   "cell_type": "markdown",
   "metadata": {},
   "source": [
    "Take predictions from each of the different models, take the average of them then "
   ]
  },
  {
   "cell_type": "code",
   "execution_count": 54,
   "metadata": {},
   "outputs": [
    {
     "name": "stdout",
     "output_type": "stream",
     "text": [
      "Mean squared error: 24.702062050251566\n",
      "Explained variance score (best 1.0): 0.26129107145381514\n"
     ]
    }
   ],
   "source": [
    "reg1 = ElasticNet().fit(x_train, y_train)\n",
    "reg2 = BayesianRidge().fit(x_train, y_train)\n",
    "preds1 = reg1.predict(x_test)\n",
    "preds2 = reg2.predict(x_test)\n",
    "score_model(.5*preds1 + .5*preds2)"
   ]
  },
  {
   "cell_type": "markdown",
   "metadata": {},
   "source": [
    "## Personal Projects \n",
    "(show other links and projects we did)"
   ]
  },
  {
   "cell_type": "markdown",
   "metadata": {},
   "source": [
    "## Final Thoughts"
   ]
  },
  {
   "cell_type": "markdown",
   "metadata": {},
   "source": [
    "Couple major takeaways:\n",
    "\n",
    "- Don't need a PhD in Computer Science to use machine learning! Understand basic ideas behind what machine learning does and basic math will allow you to understand/use models.\n",
    "- Although we didn't review it here, most of the work is done working with data! 80% of the problem is getting data that can be both be run with models and that will give accurate results.\n",
    "- Have fun! Use models online, try to understand and explore other machine learning ideas like Principle Component Analysis (decreasing dimensions of your data), Ensembling (finding optimal parameters for a given model), Monte Carlo Simulation (randomly sampling over a massive space) and Markov Chains (predicting one action to the next)."
   ]
  },
  {
   "cell_type": "code",
   "execution_count": null,
   "metadata": {},
   "outputs": [],
   "source": []
  }
 ],
 "metadata": {
  "kernelspec": {
   "display_name": "Python 3",
   "language": "python",
   "name": "python3"
  },
  "language_info": {
   "codemirror_mode": {
    "name": "ipython",
    "version": 3
   },
   "file_extension": ".py",
   "mimetype": "text/x-python",
   "name": "python",
   "nbconvert_exporter": "python",
   "pygments_lexer": "ipython3",
   "version": "3.6.8"
  }
 },
 "nbformat": 4,
 "nbformat_minor": 2
}
