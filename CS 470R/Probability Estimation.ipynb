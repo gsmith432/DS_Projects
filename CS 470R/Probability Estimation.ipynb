{
 "cells": [
  {
   "cell_type": "code",
   "execution_count": 35,
   "metadata": {},
   "outputs": [],
   "source": [
    "import pandas as pd\n",
    "import numpy as np\n",
    "import matplotlib.pyplot as plt"
   ]
  },
  {
   "cell_type": "markdown",
   "metadata": {},
   "source": [
    "## Problem 1: St. Petersburg Paradox"
   ]
  },
  {
   "cell_type": "code",
   "execution_count": 55,
   "metadata": {},
   "outputs": [
    {
     "name": "stdout",
     "output_type": "stream",
     "text": [
      "Average money won: $10.04\n",
      "Maximum money won: $128\n"
     ]
    }
   ],
   "source": [
    "## Part (i)\n",
    "\n",
    "max_val = 0\n",
    "all_cash = 0\n",
    "results = []\n",
    "\n",
    "for i in range(100):\n",
    "    cash = 1\n",
    "    \n",
    "    while True:\n",
    "        roll = np.random.choice(2)\n",
    "        if roll == 1:\n",
    "            cash *= 2\n",
    "        else:\n",
    "            cash *= 2\n",
    "            break\n",
    "    \n",
    "    results.append(cash)\n",
    "    all_cash += cash\n",
    "    if cash > max_val:\n",
    "        max_val = cash\n",
    "\n",
    "print(\"Average money won: ${}\".format(all_cash/100))\n",
    "print(\"Maximum money won: ${}\".format(max_val))"
   ]
  },
  {
   "cell_type": "code",
   "execution_count": 56,
   "metadata": {},
   "outputs": [
    {
     "data": {
      "text/plain": [
       "(array([87.,  6.,  2.,  0.,  2.,  0.,  0.,  0.,  0.,  3.]),\n",
       " array([  2. ,  14.6,  27.2,  39.8,  52.4,  65. ,  77.6,  90.2, 102.8,\n",
       "        115.4, 128. ]),\n",
       " <a list of 10 Patch objects>)"
      ]
     },
     "execution_count": 56,
     "metadata": {},
     "output_type": "execute_result"
    },
    {
     "data": {
      "image/png": "[encoded data removed]",
      "text/plain": [
       "<Figure size 432x288 with 1 Axes>"
      ]
     },
     "metadata": {
      "needs_background": "light"
     },
     "output_type": "display_data"
    }
   ],
   "source": [
    "plt.hist(results)"
   ]
  },
  {
   "cell_type": "code",
   "execution_count": 3,
   "metadata": {},
   "outputs": [
    {
     "data": {
      "text/plain": [
       "array([1, 1, 1, 0, 0, 1, 1, 1, 1, 0])"
      ]
     },
     "execution_count": 3,
     "metadata": {},
     "output_type": "execute_result"
    }
   ],
   "source": [
    "np.random.choice(2,10)"
   ]
  },
  {
   "cell_type": "code",
   "execution_count": 5,
   "metadata": {},
   "outputs": [
    {
     "name": "stdout",
     "output_type": "stream",
     "text": [
      "Average money won: $42.423\n",
      "Maximum money won: $262144\n"
     ]
    }
   ],
   "source": [
    "## Part (ii)\n",
    "\n",
    "max_val = 0\n",
    "all_cash = 0\n",
    "\n",
    "for i in range(10000):\n",
    "    cash = 1\n",
    "    \n",
    "    while True:\n",
    "        roll = np.random.choice(2)\n",
    "        if roll == 1:\n",
    "            cash *= 2\n",
    "        else:\n",
    "            cash *= 2\n",
    "            break\n",
    "    \n",
    "    all_cash += cash\n",
    "    if cash > max_val:\n",
    "        max_val = cash\n",
    "\n",
    "print(\"Average money won: ${}\".format(all_cash/10000))\n",
    "print(\"Maximum money won: ${}\".format(max_val))"
   ]
  },
  {
   "cell_type": "code",
   "execution_count": 8,
   "metadata": {},
   "outputs": [
    {
     "name": "stdout",
     "output_type": "stream",
     "text": [
      "Iteration 0\n",
      "Iteration 100000\n",
      "Iteration 200000\n",
      "Iteration 300000\n",
      "Iteration 400000\n",
      "Iteration 500000\n",
      "Iteration 600000\n",
      "Iteration 700000\n",
      "Iteration 800000\n",
      "Iteration 900000\n",
      "Average money won: $21.472556\n",
      "Maximum money won: $1048576\n"
     ]
    }
   ],
   "source": [
    "## Part (iii)\n",
    "\n",
    "max_val = 0\n",
    "all_cash = 0\n",
    "\n",
    "for i in range(1000000):\n",
    "    if i % 100000 == 0:\n",
    "        print(\"Iteration {}\".format(i))\n",
    "    cash = 1\n",
    "    \n",
    "    while True:\n",
    "        roll = np.random.choice(2)\n",
    "        if roll == 1:\n",
    "            cash *= 2\n",
    "        else:\n",
    "            cash *= 2\n",
    "            break\n",
    "    \n",
    "    all_cash += cash\n",
    "    if cash > max_val:\n",
    "        max_val = cash\n",
    "\n",
    "print(\"Average money won: ${}\".format(all_cash/1000000))\n",
    "print(\"Maximum money won: ${}\".format(max_val))"
   ]
  },
  {
   "cell_type": "markdown",
   "metadata": {},
   "source": [
    "## Problem 2: Monty Hall Problem"
   ]
  },
  {
   "cell_type": "code",
   "execution_count": 43,
   "metadata": {},
   "outputs": [],
   "source": [
    "stay = []\n",
    "stay_probs = []\n",
    "switch = []\n",
    "switch_probs = []\n",
    "\n",
    "for i in range(1000):\n",
    "    ## Initialize results, get car and choice\n",
    "    results = [0,1,2]\n",
    "    car = np.random.choice(3)\n",
    "    choice = np.random.choice(3)\n",
    "    \n",
    "    ## Remove car and choice picks then get goat pick\n",
    "    results.remove(car)\n",
    "    try:\n",
    "        results.remove(choice)\n",
    "    except ValueError:\n",
    "        pass\n",
    "    \n",
    "    goat = np.random.choice(results)\n",
    "    \n",
    "    ## Remove goat pick from potential\n",
    "    final_results = [0,1,2]\n",
    "    final_results.remove(goat)\n",
    "    \n",
    "    ## Record results for staying and switching\n",
    "    if choice == car:\n",
    "        stay.append(1)\n",
    "        stay_probs.append(np.mean(stay))\n",
    "        switch.append(0)\n",
    "        switch_probs.append(np.mean(switch))\n",
    "    else:\n",
    "        stay.append(0)\n",
    "        stay_probs.append(np.mean(stay))\n",
    "        switch.append(1)\n",
    "        switch_probs.append(np.mean(switch))"
   ]
  },
  {
   "cell_type": "code",
   "execution_count": 44,
   "metadata": {},
   "outputs": [
    {
     "data": {
      "image/png": "[encoded data removed]",
      "text/plain": [
       "<Figure size 1080x504 with 2 Axes>"
      ]
     },
     "metadata": {
      "needs_background": "light"
     },
     "output_type": "display_data"
    }
   ],
   "source": [
    "plt.figure(figsize=[15,7])\n",
    "plt.subplot(121)\n",
    "plt.title(\"Staying Probability of Winning: {}\".format(stay_probs[-1]))\n",
    "plt.plot(stay_probs)\n",
    "plt.xlabel('Game Count')\n",
    "plt.ylabel('Win Probability')\n",
    "\n",
    "plt.subplot(122)\n",
    "plt.title(\"Switching Probability of Winning: {}\".format(switch_probs[-1]))\n",
    "plt.plot(switch_probs)\n",
    "plt.xlabel('Game Count')\n",
    "plt.ylabel('Win Probability')\n",
    "plt.show()"
   ]
  },
  {
   "cell_type": "markdown",
   "metadata": {},
   "source": [
    "## Problem 3: Risk Battles"
   ]
  },
  {
   "cell_type": "code",
   "execution_count": 46,
   "metadata": {},
   "outputs": [
    {
     "data": {
      "text/plain": [
       "array([4])"
      ]
     },
     "execution_count": 46,
     "metadata": {},
     "output_type": "execute_result"
    }
   ],
   "source": [
    "np.random.choice(6,1)"
   ]
  },
  {
   "cell_type": "code",
   "execution_count": 74,
   "metadata": {},
   "outputs": [
    {
     "name": "stdout",
     "output_type": "stream",
     "text": [
      "\n",
      "Dice Combination: [1, 1]\n",
      "Outcome Percentages:\n",
      "Attacker Wins: 40.3%\n",
      "Defender Wins: 0.0%\n",
      "Draw: 59.7%\n",
      "\n",
      "Dice Combination: [1, 2]\n",
      "Outcome Percentages:\n",
      "Attacker Wins: 24.3%\n",
      "Defender Wins: 42.0%\n",
      "Draw: 33.7%\n",
      "\n",
      "Dice Combination: [2, 1]\n",
      "Outcome Percentages:\n",
      "Attacker Wins: 58.1%\n",
      "Defender Wins: 0.0%\n",
      "Draw: 41.9%\n",
      "\n",
      "Dice Combination: [2, 2]\n",
      "Outcome Percentages:\n",
      "Attacker Wins: 36.5%\n",
      "Defender Wins: 45.8%\n",
      "Draw: 17.7%\n",
      "\n",
      "Dice Combination: [3, 1]\n",
      "Outcome Percentages:\n",
      "Attacker Wins: 64.7%\n",
      "Defender Wins: 0.0%\n",
      "Draw: 35.3%\n",
      "\n",
      "Dice Combination: [3, 2]\n",
      "Outcome Percentages:\n",
      "Attacker Wins: 40.9%\n",
      "Defender Wins: 26.5%\n",
      "Draw: 32.6%\n"
     ]
    }
   ],
   "source": [
    "n_a = [1,2,3]\n",
    "n_d = [1,2]\n",
    "dict_results = {}\n",
    "final_results = {}\n",
    "\n",
    "for a in n_a:\n",
    "    for d in n_d:\n",
    "        dict_results[tuple((a,d))] = []\n",
    "        final_results[tuple((a,d))] = []\n",
    "        print(\"\\nDice Combination: {}\".format([a,d]))\n",
    "        \n",
    "        for i in range(1000):\n",
    "            new_a, new_d = a, d\n",
    "            while new_a > 0 and new_d > 0:\n",
    "                attack = np.sort(np.random.choice(6,new_a))\n",
    "                defend = np.sort(np.random.choice(6,new_d))\n",
    "\n",
    "                num_dice = min(len(attack),len(defend))\n",
    "#                 print(num_dice)\n",
    "\n",
    "                for j in range(num_dice):\n",
    "                    if attack[j] <= defend[j]:\n",
    "                        new_a -= 1\n",
    "                    else:\n",
    "                        new_d -= 1\n",
    "#                 print(new_a)\n",
    "#                 print(new_d)\n",
    "                        \n",
    "            \n",
    "            if new_a == 0:\n",
    "                if new_d == 2:\n",
    "                    results = -1\n",
    "                else:\n",
    "                    results = 0\n",
    "            else:\n",
    "                results = 1\n",
    "            dict_results[tuple((a,d))].append(results)\n",
    "        \n",
    "#         print(dict_results[tuple((a,d))])\n",
    "        print(\"Outcome Percentages:\".format(dict_results[tuple((a,d))]))\n",
    "        arr = np.asarray(dict_results[tuple((a,d))])\n",
    "        final_results[tuple((a,d))].append(np.sum(arr == 1)/len(arr))\n",
    "        final_results[tuple((a,d))].append(np.sum(arr == -1)/len(arr))\n",
    "        final_results[tuple((a,d))].append(np.sum(arr == 1)/len(arr))\n",
    "        print(\"Attacker Wins: {}%\".format(100*np.sum(arr == 1)/len(arr)))\n",
    "        print(\"Defender Wins: {}%\".format(100*np.sum(arr == -1)/len(arr)))\n",
    "        print(\"Draw: {}%\".format(100*np.sum(arr == 0)/len(arr)))"
   ]
  },
  {
   "cell_type": "code",
   "execution_count": 89,
   "metadata": {
    "scrolled": true
   },
   "outputs": [
    {
     "name": "stdout",
     "output_type": "stream",
     "text": [
      "\n",
      "Dice Combination: [1, 5]\n",
      "Outcome Percentages:\n",
      "Attacker Wins: 4.8%\n",
      "Defender Wins: 89.8%\n",
      "Draw: 5.4%\n",
      "\n",
      "Dice Combination: [2, 5]\n",
      "Outcome Percentages:\n",
      "Attacker Wins: 6.6%\n",
      "Defender Wins: 85.3%\n",
      "Draw: 8.1%\n",
      "\n",
      "Dice Combination: [3, 5]\n",
      "Outcome Percentages:\n",
      "Attacker Wins: 8.6%\n",
      "Defender Wins: 81.3%\n",
      "Draw: 10.1%\n",
      "\n",
      "Dice Combination: [4, 5]\n",
      "Outcome Percentages:\n",
      "Attacker Wins: 11.3%\n",
      "Defender Wins: 76.2%\n",
      "Draw: 12.5%\n",
      "\n",
      "Dice Combination: [5, 5]\n",
      "Outcome Percentages:\n",
      "Attacker Wins: 17.0%\n",
      "Defender Wins: 70.9%\n",
      "Draw: 12.1%\n",
      "\n",
      "Dice Combination: [6, 5]\n",
      "Outcome Percentages:\n",
      "Attacker Wins: 19.5%\n",
      "Defender Wins: 65.8%\n",
      "Draw: 14.7%\n",
      "\n",
      "Dice Combination: [7, 5]\n",
      "Outcome Percentages:\n",
      "Attacker Wins: 22.2%\n",
      "Defender Wins: 62.1%\n",
      "Draw: 15.7%\n",
      "\n",
      "Dice Combination: [8, 5]\n",
      "Outcome Percentages:\n",
      "Attacker Wins: 29.0%\n",
      "Defender Wins: 53.2%\n",
      "Draw: 17.8%\n",
      "\n",
      "Dice Combination: [9, 5]\n",
      "Outcome Percentages:\n",
      "Attacker Wins: 35.9%\n",
      "Defender Wins: 49.1%\n",
      "Draw: 15.0%\n",
      "\n",
      "Dice Combination: [10, 5]\n",
      "Outcome Percentages:\n",
      "Attacker Wins: 36.2%\n",
      "Defender Wins: 44.0%\n",
      "Draw: 19.8%\n",
      "\n",
      "Dice Combination: [11, 5]\n",
      "Outcome Percentages:\n",
      "Attacker Wins: 42.6%\n",
      "Defender Wins: 40.0%\n",
      "Draw: 17.4%\n",
      "\n",
      "Dice Combination: [12, 5]\n",
      "Outcome Percentages:\n",
      "Attacker Wins: 45.3%\n",
      "Defender Wins: 35.1%\n",
      "Draw: 19.6%\n",
      "\n",
      "Dice Combination: [13, 5]\n",
      "Outcome Percentages:\n",
      "Attacker Wins: 53.3%\n",
      "Defender Wins: 31.9%\n",
      "Draw: 14.8%\n",
      "\n",
      "Dice Combination: [14, 5]\n",
      "Outcome Percentages:\n",
      "Attacker Wins: 54.7%\n",
      "Defender Wins: 27.6%\n",
      "Draw: 17.7%\n",
      "\n",
      "Dice Combination: [15, 5]\n",
      "Outcome Percentages:\n",
      "Attacker Wins: 57.3%\n",
      "Defender Wins: 27.3%\n",
      "Draw: 15.4%\n",
      "\n",
      "Dice Combination: [16, 5]\n",
      "Outcome Percentages:\n",
      "Attacker Wins: 66.1%\n",
      "Defender Wins: 19.1%\n",
      "Draw: 14.8%\n",
      "\n",
      "Dice Combination: [17, 5]\n",
      "Outcome Percentages:\n",
      "Attacker Wins: 68.2%\n",
      "Defender Wins: 19.3%\n",
      "Draw: 12.5%\n",
      "\n",
      "Dice Combination: [18, 5]\n",
      "Outcome Percentages:\n",
      "Attacker Wins: 70.0%\n",
      "Defender Wins: 16.6%\n",
      "Draw: 13.4%\n",
      "\n",
      "Dice Combination: [19, 5]\n",
      "Outcome Percentages:\n",
      "Attacker Wins: 72.5%\n",
      "Defender Wins: 15.2%\n",
      "Draw: 12.3%\n"
     ]
    }
   ],
   "source": [
    "n_a = np.arange(1,20)\n",
    "n_d = [5]\n",
    "dict_results = {}\n",
    "final_results = {}\n",
    "\n",
    "for a in n_a:\n",
    "    for d in n_d:\n",
    "        dict_results[tuple((a,d))] = []\n",
    "        final_results[tuple((a,d))] = []\n",
    "        print(\"\\nDice Combination: {}\".format([a,d]))\n",
    "        \n",
    "        for i in range(1000):\n",
    "            new_a, new_d = a, d\n",
    "            while new_a > 0 and new_d > 0:\n",
    "                if new_a > 3:\n",
    "                    a_dice = 3\n",
    "                else:\n",
    "                    a_dice = new_a\n",
    "                attack = np.sort(np.random.choice(6,a_dice))\n",
    "                \n",
    "                if new_d > 2:\n",
    "                    d_dice = 2\n",
    "                else:\n",
    "                    d_dice = new_d\n",
    "                \n",
    "                defend = np.sort(np.random.choice(6,d_dice))\n",
    "\n",
    "                num_dice = min(len(attack),len(defend))\n",
    "\n",
    "                for j in range(num_dice):\n",
    "                    if attack[j] <= defend[j]:\n",
    "                        new_a -= 1\n",
    "                    else:\n",
    "                        new_d -= 1\n",
    "            \n",
    "            if new_a == 0:\n",
    "                if new_d > 1:\n",
    "                    results = -1\n",
    "                else:\n",
    "                    results = 0\n",
    "            else:\n",
    "                results = 1\n",
    "            dict_results[tuple((a,d))].append(results)\n",
    "        \n",
    "\n",
    "        print(\"Outcome Percentages:\".format(dict_results[tuple((a,d))]))\n",
    "        arr = np.asarray(dict_results[tuple((a,d))])\n",
    "        final_results[tuple((a,d))].append(np.sum(arr == 0)/len(arr))\n",
    "        final_results[tuple((a,d))].append(np.sum(arr == -1)/len(arr))\n",
    "        final_results[tuple((a,d))].append(np.sum(arr == 1)/len(arr))\n",
    "        print(\"Attacker Wins: {}%\".format(100*np.sum(arr == 1)/len(arr)))\n",
    "        print(\"Defender Wins: {}%\".format(100*np.sum(arr == -1)/len(arr)))\n",
    "        print(\"Draw: {}%\".format(100*np.sum(arr == 0)/len(arr)))"
   ]
  },
  {
   "cell_type": "code",
   "execution_count": 90,
   "metadata": {},
   "outputs": [],
   "source": [
    "vals = []\n",
    "key_list = [tuple((a,5)) for a in n_a]\n",
    "for key in key_list:\n",
    "    vals.append(final_results[key][2])"
   ]
  },
  {
   "cell_type": "code",
   "execution_count": 91,
   "metadata": {},
   "outputs": [
    {
     "data": {
      "text/plain": [
       "[0.048,\n",
       " 0.066,\n",
       " 0.086,\n",
       " 0.113,\n",
       " 0.17,\n",
       " 0.195,\n",
       " 0.222,\n",
       " 0.29,\n",
       " 0.359,\n",
       " 0.362,\n",
       " 0.426,\n",
       " 0.453,\n",
       " 0.533,\n",
       " 0.547,\n",
       " 0.573,\n",
       " 0.661,\n",
       " 0.682,\n",
       " 0.7,\n",
       " 0.725]"
      ]
     },
     "execution_count": 91,
     "metadata": {},
     "output_type": "execute_result"
    }
   ],
   "source": [
    "vals"
   ]
  },
  {
   "cell_type": "code",
   "execution_count": 92,
   "metadata": {},
   "outputs": [
    {
     "data": {
      "text/plain": [
       "Text(0, 0.5, 'Probability of Winning')"
      ]
     },
     "execution_count": 92,
     "metadata": {},
     "output_type": "execute_result"
    },
    {
     "data": {
      "image/png": "[encoded data removed]",
      "text/plain": [
       "<Figure size 1080x504 with 1 Axes>"
      ]
     },
     "metadata": {
      "needs_background": "light"
     },
     "output_type": "display_data"
    }
   ],
   "source": [
    "plt.figure(figsize=[15,7])\n",
    "plt.title('Win Probabilities for Differing Attack Values')\n",
    "plt.bar(np.arange(2,21),vals)\n",
    "plt.xlabel('# Attacking Armies')\n",
    "plt.ylabel('Probability of Winning')"
   ]
  },
  {
   "cell_type": "code",
   "execution_count": 94,
   "metadata": {},
   "outputs": [
    {
     "name": "stdout",
     "output_type": "stream",
     "text": [
      "\n",
      "Dice Combination: [9, 10]\n"
     ]
    }
   ],
   "source": [
    "scores = np.zeros((10,10))\n",
    "\n",
    "total_runs = 10000\n",
    "\n",
    "n_a = [9]\n",
    "n_d = [10]\n",
    "dict_results = {}\n",
    "final_results = {}\n",
    "\n",
    "for a in n_a:\n",
    "    for d in n_d:\n",
    "        dict_results[tuple((a,d))] = []\n",
    "        final_results[tuple((a,d))] = []\n",
    "        print(\"\\nDice Combination: {}\".format([a,d]))\n",
    "        \n",
    "        for i in range(total_runs):\n",
    "            new_a, new_d = a, d\n",
    "            while new_a > 0 and new_d > 0:\n",
    "                if new_a > 3:\n",
    "                    a_dice = 3\n",
    "                else:\n",
    "                    a_dice = new_a\n",
    "                attack = np.sort(np.random.choice(6,a_dice))\n",
    "                \n",
    "                if new_d > 2:\n",
    "                    d_dice = 2\n",
    "                else:\n",
    "                    d_dice = new_d\n",
    "                \n",
    "                defend = np.sort(np.random.choice(6,d_dice))\n",
    "\n",
    "                num_dice = min(len(attack),len(defend))\n",
    "\n",
    "                for j in range(num_dice):\n",
    "                    if attack[j] <= defend[j]:\n",
    "                        new_a -= 1\n",
    "                    else:\n",
    "                        new_d -= 1\n",
    "            \n",
    "            scores[new_a,max(int(new_d)-1,0)] += 1"
   ]
  },
  {
   "cell_type": "code",
   "execution_count": 102,
   "metadata": {},
   "outputs": [
    {
     "data": {
      "text/plain": [
       "Text(0, 0.5, 'Attacker Armies')"
      ]
     },
     "execution_count": 102,
     "metadata": {},
     "output_type": "execute_result"
    },
    {
     "data": {
      "image/png": "[encoded data removed]",
      "text/plain": [
       "<Figure size 576x576 with 1 Axes>"
      ]
     },
     "metadata": {
      "needs_background": "light"
     },
     "output_type": "display_data"
    }
   ],
   "source": [
    "fig = plt.figure(figsize=[8,8])\n",
    "scores /= 10000\n",
    "ax = fig.add_subplot(111)\n",
    "ax.imshow(scores, cmap='viridis')\n",
    "\n",
    "for (j,i),label in np.ndenumerate(scores):\n",
    "    ax.text(i,j,label,ha='center',va='center')\n",
    "\n",
    "plt.title('Probabilities for each result')\n",
    "plt.xlabel('Defender Armies')\n",
    "plt.ylabel('Attacker Armies')"
   ]
  },
  {
   "cell_type": "code",
   "execution_count": null,
   "metadata": {},
   "outputs": [],
   "source": []
  }
 ],
 "metadata": {
  "kernelspec": {
   "display_name": "Python 3",
   "language": "python",
   "name": "python3"
  },
  "language_info": {
   "codemirror_mode": {
    "name": "ipython",
    "version": 3
   },
   "file_extension": ".py",
   "mimetype": "text/x-python",
   "name": "python",
   "nbconvert_exporter": "python",
   "pygments_lexer": "ipython3",
   "version": "3.6.8"
  }
 },
 "nbformat": 4,
 "nbformat_minor": 2
}
